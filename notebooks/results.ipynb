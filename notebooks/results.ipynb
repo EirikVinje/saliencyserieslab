{
 "cells": [
  {
   "cell_type": "code",
   "execution_count": null,
   "metadata": {},
   "outputs": [],
   "source": [
    "import json"
   ]
  },
  {
   "cell_type": "code",
   "execution_count": null,
   "metadata": {},
   "outputs": [],
   "source": [
    "with open(\"../results/EAUC.json\", \"r\") as f:\n",
    "    EAUC = json.load(f)\n",
    "    print(EAUC)"
   ]
  },
  {
   "cell_type": "code",
   "execution_count": null,
   "metadata": {},
   "outputs": [],
   "source": [
    "global_gaussian = EAUC[\"global_gaussian\"]\n",
    "local_gaussian = EAUC[\"local_gaussian\"]\n",
    "global_mean = EAUC[\"global_mean\"]\n",
    "local_mean = EAUC[\"local_mean\"]"
   ]
  },
  {
   "cell_type": "code",
   "execution_count": null,
   "metadata": {},
   "outputs": [],
   "source": [
    "local_mean[\"resnet\"][\"ECG200\"].keys()"
   ]
  },
  {
   "cell_type": "code",
   "execution_count": null,
   "metadata": {},
   "outputs": [],
   "source": [
    "import matplotlib.pyplot as plt\n",
    "import numpy as np\n",
    "\n",
    "# calculacte area under the curve\n",
    "\n",
    "models = [\"rocket\", \"resnet\", \"mrseql\"]\n",
    "datasets = [\"SwedishLeaf\", \"ECG200\", \"Plane\"]\n",
    "explainers = [\"shapley\", \"kernelshap\", \"leftist_shap\", \"leftist_lime\", \"lime\", \"mrseql\"]\n",
    "methods = [global_gaussian, global_mean, local_gaussian, local_mean]\n",
    "\n",
    "EAUCs = {}\n",
    "\n",
    "explainer = \"shapley\"\n",
    "\n",
    "all_eaucs_scaled = []\n",
    "\n",
    "for method in methods:\n",
    "\n",
    "    for model in models:\n",
    "        \n",
    "        eauc_model = []\n",
    "        for explainer in explainers:\n",
    "\n",
    "            eauc = 0\n",
    "            for dataset in datasets:\n",
    "\n",
    "                accs = method[model][dataset][explainer]\n",
    "                eauc += np.trapz(accs, x=np.arange(0.0, 1.01, 0.1))\n",
    "                \n",
    "            eauc = round(eauc / len(datasets), 2)\n",
    "            eauc_model.append(eauc)\n",
    "        \n",
    "        eauc_model = np.array(eauc_model)\n",
    "        eauc_model = np.interp(eauc_model, (eauc_model.min(), eauc_model.max()), (0, 1)).tolist()\n",
    "        all_eaucs_scaled.append(eauc_model)\n",
    "    \n",
    "all_eaucs_scaled = np.array(all_eaucs_scaled)\n",
    "\n",
    "print(all_eaucs_scaled.shape)\n",
    "print(all_eaucs_scaled)"
   ]
  },
  {
   "cell_type": "code",
   "execution_count": null,
   "metadata": {},
   "outputs": [],
   "source": [
    "means = np.mean(all_eaucs_scaled, axis=0)\n",
    "means = np.interp(means, (means.min(), means.max()), (0, 1))\n",
    "means = 1 - means\n",
    "means = [str(round(x, 2)) for x in means]\n",
    "\"& \" + \" & \".join(means)"
   ]
  },
  {
   "cell_type": "code",
   "execution_count": null,
   "metadata": {},
   "outputs": [],
   "source": [
    "import matplotlib.pyplot as plt\n",
    "\n",
    "plt.figure(figsize=(6, 4))\n",
    "\n",
    "model = \"rocket\"\n",
    "dataset = \"Plane\"\n",
    "\n",
    "for key, values in global_gaussian[model][dataset].items():\n",
    "\n",
    "    plt.plot(values, label=key)\n",
    "plt.legend()\n",
    "\n",
    "plt.title(f\"{model} - {dataset}\")\n",
    "\n",
    "plt.xlabel(\"k\")\n",
    "plt.ylabel(\"Accuracy\")\n",
    "\n",
    "plt.show()"
   ]
  }
 ],
 "metadata": {
  "kernelspec": {
   "display_name": "xai",
   "language": "python",
   "name": "python3"
  },
  "language_info": {
   "codemirror_mode": {
    "name": "ipython",
    "version": 3
   },
   "file_extension": ".py",
   "mimetype": "text/x-python",
   "name": "python",
   "nbconvert_exporter": "python",
   "pygments_lexer": "ipython3",
   "version": "3.10.0"
  }
 },
 "nbformat": 4,
 "nbformat_minor": 2
}
