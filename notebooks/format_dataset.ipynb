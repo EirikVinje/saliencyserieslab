{
 "cells": [
  {
   "cell_type": "code",
   "execution_count": 1,
   "metadata": {},
   "outputs": [],
   "source": [
    "import arff\n",
    "\n",
    "# Open the ARFF file\n",
    "with open('../data/InsectSound_TRAIN.arff', 'r') as f:\n",
    "    # Load the ARFF data\n",
    "    arff_data = arff.load(f)"
   ]
  },
  {
   "cell_type": "code",
   "execution_count": 9,
   "metadata": {},
   "outputs": [
    {
     "data": {
      "text/plain": [
       "float"
      ]
     },
     "execution_count": 9,
     "metadata": {},
     "output_type": "execute_result"
    }
   ],
   "source": [
    "type(arff_data[\"data\"][0][0])"
   ]
  },
  {
   "cell_type": "code",
   "execution_count": 14,
   "metadata": {},
   "outputs": [
    {
     "data": {
      "text/plain": [
       "[<matplotlib.lines.Line2D at 0x7f00a8956740>]"
      ]
     },
     "execution_count": 14,
     "metadata": {},
     "output_type": "execute_result"
    },
    {
     "data": {
      "image/png": "[encoded data removed]",
      "text/plain": [
       "<Figure size 640x480 with 1 Axes>"
      ]
     },
     "metadata": {},
     "output_type": "display_data"
    }
   ],
   "source": [
    "import matplotlib.pyplot as plt\n",
    "\n",
    "sample = arff_data[\"data\"][0][:-1]\n",
    "\n",
    "plt.plot(sample)"
   ]
  },
  {
   "cell_type": "markdown",
   "metadata": {},
   "source": [
    "# Classes\n",
    "\n",
    "- Aedes_female: 0\n",
    "- Aedes_male: 1\n",
    "- Fruit_flies: 2\n",
    "- House_flies: 3\n",
    "- Quinx_female: 4\n",
    "- Quinx_male: 5\n",
    "- Stigma_female: 6\n",
    "- Stigma_male: 7\n",
    "- Tarsalis_female: 8\n",
    "- Tarsalis_male: 9"
   ]
  },
  {
   "cell_type": "code",
   "execution_count": 12,
   "metadata": {},
   "outputs": [],
   "source": [
    "import arff\n",
    "import numpy as np\n",
    "import pickle\n",
    "import torch\n",
    "\n",
    "def make_data(settype, classes):\n",
    "\n",
    "    with open(f'../data/InsectSound_{settype}.arff', 'r') as f:\n",
    "        arff_data = arff.load(f)\n",
    "\n",
    "    x = [s[:-1] for s in arff_data[\"data\"]]\n",
    "    y = [s[-1] for s in arff_data[\"data\"]]\n",
    "\n",
    "    insect_dict = {\n",
    "        'Aedes_female': 0,\n",
    "        'Aedes_male': 1,\n",
    "        'Fruit_flies': 2,\n",
    "        'House_flies': 3,\n",
    "        'Quinx_female': 4,\n",
    "        'Quinx_male': 5,\n",
    "        'Stigma_female': 6,\n",
    "        'Stigma_male': 7,\n",
    "        'Tarsalis_female': 8,\n",
    "        'Tarsalis_male': 9\n",
    "    }\n",
    "\n",
    "    x = np.array(x)\n",
    "    y = np.array([insect_dict[s] for s in y])\n",
    "\n",
    "    def combine_classes(x, y, classes):\n",
    "\n",
    "        x_new = []\n",
    "        y_new = []\n",
    "\n",
    "        for c in classes:\n",
    "            x_new.append(x[y == c])\n",
    "            y_new.append(y[y == c])\n",
    "\n",
    "        return x, y\n",
    "    \n",
    "    x, y = combine_classes(x, y, classes)\n",
    "\n",
    "    x = torch.tensor(x, dtype=torch.float)\n",
    "    y = torch.tensor(y, dtype=torch.long)\n",
    "\n",
    "    with open(f'../data/{settype}_{len(classes)}class.pkl', 'wb') as f:\n",
    "        data = {\n",
    "            'x': x,\n",
    "            'y': y\n",
    "        }\n",
    "        pickle.dump(data, f)\n",
    "\n",
    "\n",
    "\n",
    "classes = [0, 1]\n",
    "# classes = [0, 1, 4, 5, 6, 7]\n",
    "\n",
    "make_data(\"TRAIN\", classes)\n",
    "make_data(\"TEST\", classes)"
   ]
  }
 ],
 "metadata": {
  "kernelspec": {
   "display_name": "aisoc",
   "language": "python",
   "name": "python3"
  },
  "language_info": {
   "codemirror_mode": {
    "name": "ipython",
    "version": 3
   },
   "file_extension": ".py",
   "mimetype": "text/x-python",
   "name": "python",
   "nbconvert_exporter": "python",
   "pygments_lexer": "ipython3",
   "version": "3.10.0"
  }
 },
 "nbformat": 4,
 "nbformat_minor": 2
}
