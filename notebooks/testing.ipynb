{
 "cells": [
  {
   "cell_type": "code",
   "execution_count": null,
   "metadata": {},
   "outputs": [],
   "source": [
    "from saliencyserieslab.classifier import Weasel\n",
    "from saliencyserieslab.load_data import UcrDataset\n",
    "\n",
    "dataset = \"SwedishLeaf\"\n",
    "ucr = UcrDataset(\n",
    "    name=dataset,\n",
    "    float_dtype=32,\n",
    "    scale=True,\n",
    ")\n",
    "\n",
    "test_x, _ = ucr.load_split(\"test\")"
   ]
  },
  {
   "cell_type": "code",
   "execution_count": null,
   "metadata": {},
   "outputs": [],
   "source": [
    "model = Weasel()\n",
    "\n",
    "modelpath = \"../models/weasel_SwedishLeaf_1\"\n",
    "\n",
    "model.load_pretrained_model(modelpath)"
   ]
  },
  {
   "cell_type": "code",
   "execution_count": null,
   "metadata": {},
   "outputs": [],
   "source": [
    "model.model.predict_proba(test_x[0].reshape(1, -1))"
   ]
  },
  {
   "cell_type": "code",
   "execution_count": null,
   "metadata": {},
   "outputs": [],
   "source": [
    "import numpy as np\n",
    "\n",
    "w = np.array([[0.1, 0.05, 0.5, 0.9], [0.1, 0.05, 0.5, 0.9]])\n",
    "\n",
    "sorted_idx = np.argsort(w, axis=1)[:, ::-1]"
   ]
  },
  {
   "cell_type": "code",
   "execution_count": null,
   "metadata": {},
   "outputs": [],
   "source": [
    "import numpy as np\n",
    "\n",
    "k = 1.0\n",
    "W = np.array([[0.1, 0.2, 0.3, 0.4], [0.1, 0.2, 0.3, 0.4]])\n",
    "X = np.array([[10, 11, 12, 13], [20, 21, 22, 23]])\n",
    "\n",
    "sorted_idx = np.argsort(W, axis=1)[:, ::-1]\n",
    "\n",
    "# Select top k percent indices to perturb\n",
    "top_idx = int(k * W.shape[1])\n",
    "\n",
    "perturbed_idx = sorted_idx[:, :top_idx]\n",
    "\n",
    "# Perturb the input data\n",
    "perturbed_data = X.copy()\n",
    "\n",
    "for i in range(perturbed_data.shape[0]):\n",
    "    perturbed_data[i, perturbed_idx[i]] = 0\n",
    "\n",
    "perturbed_data\n",
    "\n"
   ]
  },
  {
   "cell_type": "code",
   "execution_count": null,
   "metadata": {},
   "outputs": [],
   "source": [
    "k = np.arange(0.0, 1.01, 0.1)\n",
    "\n",
    "k.shape"
   ]
  },
  {
   "cell_type": "code",
   "execution_count": null,
   "metadata": {},
   "outputs": [],
   "source": [
    "data_to_perturb = np.array([0, 1, 2, 3, 4, 5, 6, 7, 8, 9, 10], dtype=np.float32)\n",
    "\n",
    "mean = np.mean(data_to_perturb)\n",
    "std = np.std(data_to_perturb)\n",
    "\n",
    "data_to_perturb[:] = np.random.normal(mean, std, data_to_perturb.shape[0])\n",
    "\n",
    "data_to_perturb.shape"
   ]
  },
  {
   "cell_type": "code",
   "execution_count": null,
   "metadata": {},
   "outputs": [],
   "source": [
    "import numpy as np\n",
    "\n",
    "a = np.array([0.42, 0.33, 1.0])\n",
    "\n",
    "# a.mean()\n",
    "\n",
    "np.interp(a, (a.min(), a.max()), (0, 1))"
   ]
  },
  {
   "cell_type": "code",
   "execution_count": null,
   "metadata": {},
   "outputs": [],
   "source": [
    "1-0.42"
   ]
  }
 ],
 "metadata": {
  "kernelspec": {
   "display_name": "xai",
   "language": "python",
   "name": "python3"
  },
  "language_info": {
   "codemirror_mode": {
    "name": "ipython",
    "version": 3
   },
   "file_extension": ".py",
   "mimetype": "text/x-python",
   "name": "python",
   "nbconvert_exporter": "python",
   "pygments_lexer": "ipython3",
   "version": "3.10.0"
  }
 },
 "nbformat": 4,
 "nbformat_minor": 2
}
