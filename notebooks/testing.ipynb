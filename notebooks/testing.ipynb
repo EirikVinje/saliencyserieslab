{
 "cells": [
  {
   "cell_type": "code",
   "execution_count": null,
   "metadata": {},
   "outputs": [],
   "source": [
    "from matplotlib.collections import LineCollection\n",
    "from matplotlib.colors import Normalize\n",
    "import matplotlib.pyplot as plt\n",
    "import pandas as pd\n",
    "import numpy as np\n",
    "\n",
    "\n",
    "np.random.seed(0)\n",
    "n = 100\n",
    "x = np.linspace(0, 10, n)\n",
    "y = np.sin(x) + np.random.normal(0, 0.2, n)\n",
    "weights = np.abs(np.random.normal(0, 1, n))\n",
    "\n",
    "# Create a DataFrame and sort by x\n",
    "df = pd.DataFrame({'x': x, 'y': y, 'weight': weights})\n",
    "df = df.sort_values('x')\n",
    "\n",
    "# Create a line collection\n",
    "points = np.array([df['x'], df['y']]).T.reshape(-1, 1, 2)\n",
    "segments = np.concatenate([points[:-1], points[1:]], axis=1)\n",
    "\n",
    "# Create the figure and axis\n",
    "fig, ax = plt.subplots(figsize=(12, 6))\n",
    "\n",
    "# Create a continuous norm to map from data points to colors\n",
    "norm = Normalize(df['weight'].min(), df['weight'].max())\n",
    "lc = LineCollection(segments, cmap='viridis', norm=norm)\n",
    "\n",
    "# Set the values used for colormapping\n",
    "lc.set_array(df['weight'])\n",
    "lc.set_linewidth(2)\n",
    "\n",
    "# Add the collection to the axis\n",
    "line = ax.add_collection(lc)\n",
    "\n",
    "# Set the axis limits\n",
    "ax.set_xlim(df['x'].min(), df['x'].max())\n",
    "ax.set_ylim(df['y'].min(), df['y'].max())\n",
    "\n",
    "# Add a colorbar\n",
    "cbar = fig.colorbar(line, ax=ax)\n",
    "cbar.set_label('Weight')\n",
    "\n",
    "# Customize the plot\n",
    "ax.set_title('Weighted Lineplot')\n",
    "ax.set_xlabel('X-axis')\n",
    "ax.set_ylabel('Y-axis')\n",
    "\n",
    "plt.tight_layout()\n",
    "plt.show()"
   ]
  }
 ],
 "metadata": {
  "kernelspec": {
   "display_name": "aisoc",
   "language": "python",
   "name": "python3"
  },
  "language_info": {
   "codemirror_mode": {
    "name": "ipython",
    "version": 3
   },
   "file_extension": ".py",
   "mimetype": "text/x-python",
   "name": "python",
   "nbconvert_exporter": "python",
   "pygments_lexer": "ipython3",
   "version": "3.10.0"
  }
 },
 "nbformat": 4,
 "nbformat_minor": 2
}
