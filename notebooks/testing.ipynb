{
 "cells": [
  {
   "cell_type": "code",
   "execution_count": null,
   "metadata": {},
   "outputs": [],
   "source": [
    "from matplotlib.collections import LineCollection\n",
    "from matplotlib.colors import Normalize\n",
    "import matplotlib.pyplot as plt\n",
    "import pandas as pd\n",
    "import numpy as np\n",
    "\n",
    "\n",
    "np.random.seed(0)\n",
    "n = 100\n",
    "x = np.linspace(0, 10, n)\n",
    "y = np.sin(x) + np.random.normal(0, 0.2, n)\n",
    "weights = np.abs(np.random.normal(0, 1, n))\n",
    "\n",
    "# Create a DataFrame and sort by x\n",
    "df = pd.DataFrame({'x': x, 'y': y, 'weight': weights})\n",
    "df = df.sort_values('x')\n",
    "\n",
    "# Create a line collection\n",
    "points = np.array([df['x'], df['y']]).T.reshape(-1, 1, 2)\n",
    "segments = np.concatenate([points[:-1], points[1:]], axis=1)\n",
    "\n",
    "# Create the figure and axis\n",
    "fig, ax = plt.subplots(figsize=(12, 6))\n",
    "\n",
    "# Create a continuous norm to map from data points to colors\n",
    "norm = Normalize(df['weight'].min(), df['weight'].max())\n",
    "lc = LineCollection(segments, cmap='viridis', norm=norm)\n",
    "\n",
    "# Set the values used for colormapping\n",
    "lc.set_array(df['weight'])\n",
    "lc.set_linewidth(2)\n",
    "\n",
    "# Add the collection to the axis\n",
    "line = ax.add_collection(lc)\n",
    "\n",
    "# Set the axis limits\n",
    "ax.set_xlim(df['x'].min(), df['x'].max())\n",
    "ax.set_ylim(df['y'].min(), df['y'].max())\n",
    "\n",
    "# Add a colorbar\n",
    "cbar = fig.colorbar(line, ax=ax)\n",
    "cbar.set_label('Weight')\n",
    "\n",
    "# Customize the plot\n",
    "ax.set_title('Weighted Lineplot')\n",
    "ax.set_xlabel('X-axis')\n",
    "ax.set_ylabel('Y-axis')\n",
    "\n",
    "plt.tight_layout()\n",
    "plt.show()"
   ]
  },
  {
   "cell_type": "code",
   "execution_count": 13,
   "metadata": {},
   "outputs": [
    {
     "data": {
      "text/plain": [
       "array([0, 0, 0, ..., 0, 0, 0])"
      ]
     },
     "execution_count": 13,
     "metadata": {},
     "output_type": "execute_result"
    }
   ],
   "source": [
    "import numpy as np\n",
    "\n",
    "np.full(2500, 0)"
   ]
  },
  {
   "cell_type": "code",
   "execution_count": 4,
   "metadata": {},
   "outputs": [
    {
     "data": {
      "text/plain": [
       "['Aedes_female',\n",
       " 'Aedes_male',\n",
       " 'Fruit_flies',\n",
       " 'House_flies',\n",
       " 'Quinx_female',\n",
       " 'Quinx_male',\n",
       " 'Stigma_female',\n",
       " 'Stigma_male',\n",
       " 'Tarsalis_female',\n",
       " 'Tarsalis_male']"
      ]
     },
     "execution_count": 4,
     "metadata": {},
     "output_type": "execute_result"
    }
   ],
   "source": [
    "import pickle\n",
    "\n",
    "with open(\"../data/insectsound/insectsound_train.pkl\", 'rb') as f:\n",
    "    traindata = pickle.load(f)\n",
    "\n",
    "with open(\"../data/insectsound/insectsound_test.pkl\", 'rb') as f:\n",
    "    evaldata = pickle.load(f)\n",
    "\n",
    "evaldata[\"labels\"]"
   ]
  },
  {
   "cell_type": "code",
   "execution_count": 11,
   "metadata": {},
   "outputs": [
    {
     "data": {
      "text/plain": [
       "array([[3., 2., 1.],\n",
       "       [1., 2., 3.],\n",
       "       [3., 2., 1.]])"
      ]
     },
     "execution_count": 11,
     "metadata": {},
     "output_type": "execute_result"
    }
   ],
   "source": [
    "import numpy as np\n",
    "\n",
    "\n",
    "a = np.zeros((3,3))\n",
    "\n",
    "a[0] = np.array([1,2,3])\n",
    "a[1] = np.array([3,2,1])\n",
    "a[2] = np.array([1,2,3])\n",
    "\n",
    "a[: , ::-1]"
   ]
  },
  {
   "cell_type": "code",
   "execution_count": 16,
   "metadata": {},
   "outputs": [
    {
     "data": {
      "text/plain": [
       "array([4, 4, 4, 4, 4])"
      ]
     },
     "execution_count": 16,
     "metadata": {},
     "output_type": "execute_result"
    }
   ],
   "source": [
    "a = np.array([4, 1, 3, 2, 10])\n",
    "\n",
    "a[:] = a.mean()\n",
    "\n",
    "a"
   ]
  }
 ],
 "metadata": {
  "kernelspec": {
   "display_name": "xai",
   "language": "python",
   "name": "python3"
  },
  "language_info": {
   "codemirror_mode": {
    "name": "ipython",
    "version": 3
   },
   "file_extension": ".py",
   "mimetype": "text/x-python",
   "name": "python",
   "nbconvert_exporter": "python",
   "pygments_lexer": "ipython3",
   "version": "3.10.0"
  }
 },
 "nbformat": 4,
 "nbformat_minor": 2
}
