{
 "cells": [
  {
   "cell_type": "code",
   "execution_count": null,
   "metadata": {},
   "outputs": [],
   "source": [
    "import pandas as pd\n",
    "import numpy as np\n",
    "import os\n",
    "\n",
    "# DATASET           (trainsize, testsize, ts_length)\n",
    "# SwedishLeaf :     (500, 625, 128)\n",
    "# ECG200 :          (100, 100, 96)\n",
    "# Plane :           (105, 105, 144)\n",
    "# ECG5000 :         (500, 4500, 140)\n",
    "# Epilepsy2 :       (80, 11420, 178)\n",
    "\n",
    "root = \"../weights\"\n",
    "\n",
    "for f in os.listdir(root):\n",
    "\n",
    "    try:\n",
    "        w = pd.read_csv(os.path.join(root, f)).to_numpy()\n",
    "        print(w.shape)\n",
    "        dataset = f.split(\"_\")[-1].split(\".\")[0]\n",
    "        \n",
    "        if dataset == \"SwedishLeaf\":\n",
    "            assert w.shape[1] == 128, \"f with wrong shape {}\".format(f)\n",
    "\n",
    "        elif dataset == \"ECG200\":\n",
    "            assert w.shape[1] == 96, \"f with wrong shape {}\".format(f)\n",
    "\n",
    "        elif dataset == \"Plane\":\n",
    "            assert w.shape[1] == 144, \"f with wrong shape {}\".format(f)\n",
    "\n",
    "\n",
    "        elif dataset == \"ECG5000\":\n",
    "            assert w.shape[1] == 140, \"f with wrong shape {}\".format(f)\n",
    "        \n",
    "    except Exception as e:\n",
    "        print(\"could not read from {}\".format(os.path.join(root, f)))\n"
   ]
  },
  {
   "cell_type": "code",
   "execution_count": null,
   "metadata": {},
   "outputs": [],
   "source": [
    "import pickle\n",
    "import numpy as np\n",
    "\n",
    "with open(\"../data/ECG200.pkl\", 'rb') as f:\n",
    "    data = pickle.load(f)\n",
    "\n",
    "\n",
    "print(data[0].shape)\n",
    "print(data[1].shape)\n",
    "print(data[1].shape)\n",
    "print(data[1].shape)"
   ]
  },
  {
   "cell_type": "code",
   "execution_count": null,
   "metadata": {},
   "outputs": [],
   "source": [
    "import pandas as pd\n",
    "import numpy as np\n",
    "\n",
    "w = pd.read_csv(\"../weights/mrseql_kernelshap_ECG200.csv\")\n",
    "\n",
    "cols = []\n",
    "for col in w.columns:\n",
    "    \n",
    "    val = col.split(\".\")\n",
    "    val = val[0] + \".\" + val[1]\n",
    "    cols.val\n",
    "    "
   ]
  },
  {
   "cell_type": "code",
   "execution_count": null,
   "metadata": {},
   "outputs": [],
   "source": [
    "import numpy as np\n",
    "import csv\n",
    "import os\n",
    "\n",
    "# DATASET           (trainsize, testsize, ts_length)\n",
    "# SwedishLeaf :     (500, 625, 128)\n",
    "# ECG200 :          (100, 100, 96)\n",
    "# Plane :           (105, 105, 144)\n",
    "\n",
    "for wpath in os.listdir(\"../weights\"):\n",
    "\n",
    "    data = []\n",
    "\n",
    "    with open(\"../weights/{}\".format(wpath), 'r') as f:\n",
    "        \n",
    "        reader = csv.reader(f)\n",
    "        \n",
    "        for row in reader:\n",
    "            data.append([float(x) for x in row])\n",
    "\n",
    "    data = np.array(data)\n",
    "    dataset = wpath.split(\"_\")[-1].split(\".\")[0]\n",
    "\n",
    "    if dataset == \"SwedishLeaf\":\n",
    "        assert data.shape == (625, 128), \"f with wrong shape {}\".format(wpath)\n",
    "\n",
    "    elif dataset == \"ECG200\":\n",
    "        assert data.shape == (100, 96), \"f with wrong shape {}\".format(wpath)\n",
    "\n",
    "    elif dataset == \"Plane\":\n",
    "        assert data.shape == (105, 144), \"f with wrong shape {}\".format(wpath)"
   ]
  },
  {
   "cell_type": "code",
   "execution_count": null,
   "metadata": {},
   "outputs": [],
   "source": [
    "import pickle\n",
    "import os\n",
    "from saliencyserieslab.classifier import SktimeClassifier\n",
    "\n",
    "for modelpath in os.listdir(\"../models2\"):\n",
    "    model = SktimeClassifier()\n",
    "    model.load_pretrained_model(os.path.join(\"../models2\", modelpath))\n",
    "    dataset = modelpath.split(\"_\")[1]\n",
    "\n",
    "    with open(\"../data/{}.pkl\".format(dataset), 'rb') as f:\n",
    "        data = pickle.load(f)\n",
    "\n",
    "    print(\"{} - {} - accuracy: {}\".format(model.name, dataset, model.evaluate(data[2], data[3])))"
   ]
  },
  {
   "cell_type": "code",
   "execution_count": null,
   "metadata": {},
   "outputs": [],
   "source": [
    "import pickle\n",
    "from saliencyserieslab.classifier import SktimeClassifier\n",
    "\n",
    "modelname = \"rocket\"\n",
    "dataset = \"Plane\"\n",
    "modelpath = \"../models/{}_{}_1\".format(modelname, dataset)\n",
    "\n",
    "with open(\"../data/{}.pkl\".format(dataset), 'rb') as f:\n",
    "    data = pickle.load(f)\n",
    "\n",
    "model = SktimeClassifier()\n",
    "model._load_rocket()\n",
    "\n",
    "model.fit(data[0], data[1])\n",
    "\n",
    "print(model.evaluate(data[2], data[3]))"
   ]
  },
  {
   "cell_type": "code",
   "execution_count": null,
   "metadata": {},
   "outputs": [],
   "source": [
    "model.evaluate(data[2], data[3])"
   ]
  }
 ],
 "metadata": {
  "kernelspec": {
   "display_name": "ssl",
   "language": "python",
   "name": "python3"
  },
  "language_info": {
   "codemirror_mode": {
    "name": "ipython",
    "version": 3
   },
   "file_extension": ".py",
   "mimetype": "text/x-python",
   "name": "python",
   "nbconvert_exporter": "python",
   "pygments_lexer": "ipython3",
   "version": "3.10.0"
  }
 },
 "nbformat": 4,
 "nbformat_minor": 2
}
