{
 "cells": [
  {
   "cell_type": "code",
   "execution_count": null,
   "metadata": {},
   "outputs": [],
   "source": [
    "from saliencyserieslab.plotting import plot_graph\n",
    "import pickle\n",
    "\n",
    "\n",
    "with open('../data/ECG200.pkl', 'rb') as f:\n",
    "    data = pickle.load(f)\n",
    "\n",
    "plot_graph(data[0][0])\n",
    "\n",
    "with open('../data/Plane.pkl', 'rb') as f:\n",
    "    data = pickle.load(f)\n",
    "\n",
    "plot_graph(data[0][0])\n",
    "\n",
    "with open('../data/SwedishLeaf.pkl', 'rb') as f:\n",
    "    data = pickle.load(f)\n",
    "\n",
    "plot_graph(data[0][0])"
   ]
  }
 ],
 "metadata": {
  "kernelspec": {
   "display_name": "ssl",
   "language": "python",
   "name": "python3"
  },
  "language_info": {
   "codemirror_mode": {
    "name": "ipython",
    "version": 3
   },
   "file_extension": ".py",
   "mimetype": "text/x-python",
   "name": "python",
   "nbconvert_exporter": "python",
   "pygments_lexer": "ipython3",
   "version": "3.10.0"
  }
 },
 "nbformat": 4,
 "nbformat_minor": 2
}
