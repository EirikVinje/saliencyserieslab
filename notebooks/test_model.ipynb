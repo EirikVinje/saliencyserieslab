{
 "cells": [
  {
   "cell_type": "code",
   "execution_count": null,
   "metadata": {},
   "outputs": [],
   "source": [
    "from saliencyserieslab.classifier import SktimeClassifier\n",
    "from saliencyserieslab.load_data import UcrDataset\n",
    "\n",
    "dataset = \"SwedishLeaf\"\n",
    "modelname = \"resnet\"\n",
    "\n",
    "model = SktimeClassifier()\n",
    "model.load_pretrained_model(\"./models/{}_{}_1\".format(modelname, dataset))\n",
    "\n",
    "ucr = UcrDataset(\n",
    "        name=dataset,\n",
    "        float_dtype=16,\n",
    "        scale=False,\n",
    "    )\n",
    "\n",
    "test_x, test_y = ucr.load_split(\"test\")"
   ]
  },
  {
   "cell_type": "code",
   "execution_count": null,
   "metadata": {},
   "outputs": [],
   "source": [
    "from saliencyserieslab.explainers.leftist_explainer import LeftistExplainer\n",
    "\n",
    "explainer = LeftistExplainer(\n",
    "    model=model,\n",
    "    nb_interpretable_feature=test_x.shape[1] // 4,\n",
    "    learning_process=\"SHAP\",\n",
    "    background=test_x,\n",
    ")\n",
    "\n",
    "w = explainer.explain_instance(test_x[0], test_y[0])\n",
    "\n",
    "w.shape"
   ]
  },
  {
   "cell_type": "code",
   "execution_count": null,
   "metadata": {},
   "outputs": [],
   "source": [
    "from saliencyserieslab.classifier import SktimeClassifier\n",
    "from saliencyserieslab.load_data import UcrDataset\n",
    "\n",
    "dataset = \"SwedishLeaf\"\n",
    "modelname = \"mrseql\"\n",
    "\n",
    "model = SktimeClassifier()\n",
    "model.load_pretrained_model(\"./models/{}_{}_1\".format(modelname, dataset))\n",
    "\n",
    "ucr = UcrDataset(\n",
    "        name=dataset,\n",
    "        float_dtype=16,\n",
    "        scale=False,\n",
    "    )\n",
    "\n",
    "test_x, test_y = ucr.load_split(\"test\")\n",
    "\n",
    "sample_x, sample_y = test_x[0], test_y[0]"
   ]
  },
  {
   "cell_type": "code",
   "execution_count": null,
   "metadata": {},
   "outputs": [],
   "source": [
    "from saliencyserieslab.load_data import UcrDataset\n",
    "from mrseql import MrSEQLClassifier\n",
    "\n",
    "ucr = UcrDataset(\n",
    "        name=\"ECG200\",\n",
    "        float_dtype=32,\n",
    "        scale=False,\n",
    "    )\n",
    "\n",
    "train_x, train_y = ucr.load_split(\"train\")\n",
    "\n",
    "model = MrSEQLClassifier()\n",
    "model.fit(train_x, train_y)"
   ]
  },
  {
   "cell_type": "code",
   "execution_count": null,
   "metadata": {},
   "outputs": [],
   "source": [
    "from saliencyserieslab.load_data import UcrDataset\n",
    "from mrseql import MrSEQLClassifier\n",
    "\n",
    "ucr = UcrDataset(\n",
    "        name=\"ECG200\",\n",
    "        float_dtype=16,\n",
    "        scale=False,\n",
    "    )\n",
    "\n",
    "test_x, test_y = ucr.load_split(\"test\")\n",
    "\n",
    "print(\"accuracy : {}\".format(model.score(test_x, test_y)))"
   ]
  },
  {
   "cell_type": "code",
   "execution_count": null,
   "metadata": {},
   "outputs": [],
   "source": [
    "from saliencyserieslab.plotting import plot_weighted\n",
    "\n",
    "sample_x, sample_y = test_x[99], test_y[99]\n",
    "\n",
    "w = model.map_sax_model(sample_x)[sample_y]\n",
    "\n",
    "import numpy as np\n",
    "\n",
    "w = np.interp(w, (w.min(), w.max()), (0, 1))\n",
    "\n",
    "plot_weighted(ts=sample_x, w=w, modelname=\"MrSEQLClassifier\", explainername=\"SHAP\", dataset=\"SwedishLeaf\", show=True, colormap=\"jet\")"
   ]
  },
  {
   "cell_type": "code",
   "execution_count": null,
   "metadata": {},
   "outputs": [],
   "source": [
    "from saliencyserieslab.load_data import UcrDataset\n",
    "from saliencyserieslab.plotting import plot_graph, plot_weighted\n",
    "\n",
    "import pickle\n",
    "\n",
    "dataset = \"Plane\"\n",
    "\n",
    "ucr = UcrDataset(\n",
    "        name=dataset,\n",
    "        float_dtype=32,\n",
    "        scale=False,\n",
    "    )\n",
    "\n",
    "test_x, test_y = ucr.load_split(\"test\")\n",
    "train_x, train_y = ucr.load_split(\"train\")\n",
    "\n",
    "print(\"train shape : {}\".format(train_x.shape))\n",
    "print(\"test shape : {}\".format(test_x.shape))\n",
    "\n",
    "data = [train_x, train_y, test_x, test_y]\n",
    "\n",
    "\n",
    "with open(\"./data/{}.pkl\".format(dataset), \"wb\") as f:\n",
    "    pickle.dump(data, f)"
   ]
  },
  {
   "cell_type": "code",
   "execution_count": null,
   "metadata": {},
   "outputs": [],
   "source": [
    "model.predict(test_x[0].reshape(1,-1))"
   ]
  },
  {
   "cell_type": "code",
   "execution_count": null,
   "metadata": {},
   "outputs": [],
   "source": [
    "from saliencyserieslab.load_data import UcrDataset\n",
    "from mrseql import MrSEQLClassifier\n",
    "\n",
    "ucr = UcrDataset(\n",
    "        name=\"ECG200\",\n",
    "        float_dtype=32,\n",
    "        scale=False,\n",
    "    )\n",
    "\n",
    "train_x, train_y = ucr.load_split(\"train\")\n",
    "\n",
    "model = MrSEQLClassifier()\n",
    "model.fit(train_x, train_y)"
   ]
  },
  {
   "cell_type": "code",
   "execution_count": null,
   "metadata": {},
   "outputs": [],
   "source": [
    "import pickle\n",
    "\n",
    "# pickle the model\n",
    "with open('./models/mrseql_ECG200_1.pkl', 'wb') as f:\n",
    "    pickle.dump(model, f)"
   ]
  },
  {
   "cell_type": "code",
   "execution_count": null,
   "metadata": {},
   "outputs": [],
   "source": [
    "from saliencyserieslab.load_data import UcrDataset\n",
    "import pickle\n",
    "\n",
    "with open('./models/mrseql_ECG200_1.pkl', 'rb') as f:\n",
    "    model = pickle.load(f)\n",
    "\n",
    "ucr = UcrDataset(\n",
    "        name=\"ECG200\",\n",
    "        float_dtype=32,\n",
    "        scale=False,\n",
    "    )\n",
    "\n",
    "train_x, train_y = ucr.load_split(\"test\")\n",
    "\n",
    "model.predict(train_x[0].reshape(1,-1))"
   ]
  }
 ],
 "metadata": {
  "kernelspec": {
   "display_name": "ssl",
   "language": "python",
   "name": "python3"
  },
  "language_info": {
   "codemirror_mode": {
    "name": "ipython",
    "version": 3
   },
   "file_extension": ".py",
   "mimetype": "text/x-python",
   "name": "python",
   "nbconvert_exporter": "python",
   "pygments_lexer": "ipython3",
   "version": "3.10.0"
  }
 },
 "nbformat": 4,
 "nbformat_minor": 2
}
