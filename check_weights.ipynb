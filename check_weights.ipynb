{
 "cells": [
  {
   "cell_type": "code",
   "execution_count": 6,
   "metadata": {},
   "outputs": [
    {
     "name": "stdout",
     "output_type": "stream",
     "text": [
      "could not read from ./weights/weasel_leftist_shap_SwedishLeaf.csv\n",
      "could not read from ./weights/weasel_leftist_lime_ECG200.csv\n",
      "could not read from ./weights/rocket_leftist_lime_SwedishLeaf.csv\n",
      "could not read from ./weights/rocket_leftist_lime_ECG200.csv\n",
      "could not read from ./weights/weasel_leftist_shap_Plane.csv\n",
      "could not read from ./weights/weasel_leftist_shap_ECG200.csv\n",
      "could not read from ./weights/mrseql_leftist_lime_ECG200.csv\n",
      "could not read from ./weights/rocket_leftist_shap_SwedishLeaf.csv\n"
     ]
    }
   ],
   "source": [
    "import pandas as pd\n",
    "import numpy as np\n",
    "import os\n",
    "\n",
    "# DATASET           (trainsize, testsize, ts_length)\n",
    "# SwedishLeaf :     (500, 625, 128)\n",
    "# ECG200 :          (100, 100, 96)\n",
    "# Plane :           (105, 105, 144)\n",
    "# ECG5000 :         (500, 4500, 140)\n",
    "# Epilepsy2 :       (80, 11420, 178)\n",
    "\n",
    "root = \"./weights\"\n",
    "\n",
    "for f in os.listdir(root):\n",
    "\n",
    "    try:\n",
    "        w = pd.read_csv(os.path.join(root, f)).to_numpy()\n",
    "        dataset = f.split(\"_\")[-1].split(\".\")[0]\n",
    "        \n",
    "        if dataset == \"SwedishLeaf\":\n",
    "            assert w.shape[1] == 128, \"f with wrong shape {}\".format(f)\n",
    "\n",
    "        elif dataset == \"ECG200\":\n",
    "            assert w.shape[1] == 96, \"f with wrong shape {}\".format(f)\n",
    "\n",
    "        elif dataset == \"Plane\":\n",
    "            assert w.shape[1] == 144, \"f with wrong shape {}\".format(f)\n",
    "\n",
    "\n",
    "        elif dataset == \"ECG5000\":\n",
    "            assert w.shape[1] == 140, \"f with wrong shape {}\".format(f)\n",
    "        \n",
    "    except Exception as e:\n",
    "        print(\"could not read from {}\".format(os.path.join(root, f)))\n"
   ]
  }
 ],
 "metadata": {
  "kernelspec": {
   "display_name": "ssl",
   "language": "python",
   "name": "python3"
  },
  "language_info": {
   "codemirror_mode": {
    "name": "ipython",
    "version": 3
   },
   "file_extension": ".py",
   "mimetype": "text/x-python",
   "name": "python",
   "nbconvert_exporter": "python",
   "pygments_lexer": "ipython3",
   "version": "3.10.0"
  }
 },
 "nbformat": 4,
 "nbformat_minor": 2
}
